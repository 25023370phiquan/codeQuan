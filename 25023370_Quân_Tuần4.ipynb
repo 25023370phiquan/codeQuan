{
  "cells": [
    {
      "cell_type": "markdown",
      "metadata": {
        "id": "asp12QkEk3i9"
      },
      "source": [
        "W3A2"
      ]
    },
    {
      "cell_type": "code",
      "execution_count": 24,
      "metadata": {
        "colab": {
          "base_uri": "https://localhost:8080/"
        },
        "id": "3zsenCTfk6-Q",
        "outputId": "21a10512-2e20-4629-c93f-80547adb1021"
      },
      "outputs": [
        {
          "name": "stdout",
          "output_type": "stream",
          "text": [
            "Nhập a: 5\n",
            "Nhập b: 6\n",
            "Sau khi hoán đổi: a = 6 , b = 5\n"
          ]
        }
      ],
      "source": [
        "a = int(input(\"Nhập a: \"))\n",
        "b = int(input(\"Nhập b: \"))\n",
        "a = a ^ b\n",
        "b = a ^ b\n",
        "a = a ^ b\n",
        "print(\"Sau khi hoán đổi: a =\", a, \", b =\", b)"
      ]
    },
    {
      "cell_type": "markdown",
      "metadata": {
        "id": "K6XHMAhDmMwu"
      },
      "source": [
        "W3A3"
      ]
    },
    {
      "cell_type": "code",
      "execution_count": null,
      "metadata": {
        "id": "VKmfIliVmSrB"
      },
      "outputs": [],
      "source": [
        "a = int (input())\n",
        "if (a & (a-1)== 0):\n",
        "  print(f\"{a} là lũy thừa của 2\")\n",
        "else:\n",
        "  print(f\"{a} không là lũy thừa của 2\")"
      ]
    },
    {
      "cell_type": "markdown",
      "metadata": {
        "id": "KkOJD4m2mRy0"
      },
      "source": [
        "W3A4"
      ]
    },
    {
      "cell_type": "code",
      "execution_count": 6,
      "metadata": {
        "colab": {
          "base_uri": "https://localhost:8080/"
        },
        "id": "JC5p-ayxmWvl",
        "outputId": "39b77695-39a3-4f9a-981f-4ca071828763"
      },
      "outputs": [
        {
          "name": "stdout",
          "output_type": "stream",
          "text": [
            "36\n",
            "7\n",
            "5\n"
          ]
        }
      ],
      "source": [
        "import math\n",
        "m = int(input())\n",
        "n = int(input())\n",
        "print(math.floor(m/n))"
      ]
    },
    {
      "cell_type": "markdown",
      "metadata": {
        "id": "BuRfDm9UoPvR"
      },
      "source": [
        "W3A5"
      ]
    },
    {
      "cell_type": "code",
      "execution_count": null,
      "metadata": {
        "id": "ZtdZwoOJoRi0"
      },
      "outputs": [],
      "source": [
        "import math\n",
        "m = int(input())\n",
        "n = int(input())\n",
        "print(math.ceil(m/n))"
      ]
    },
    {
      "cell_type": "markdown",
      "metadata": {
        "id": "7gJW2W3PoZJ8"
      },
      "source": [
        "W3A6"
      ]
    },
    {
      "cell_type": "code",
      "execution_count": null,
      "metadata": {
        "id": "xkPrPXjhoXBM"
      },
      "outputs": [],
      "source": [
        "x = int(input())\n",
        "if x % 2 == 0:\n",
        "  print('Even')\n",
        "else:\n",
        "  print('Odd')"
      ]
    },
    {
      "cell_type": "markdown",
      "metadata": {
        "id": "jQm5p00zoxA4"
      },
      "source": [
        "W3A7"
      ]
    },
    {
      "cell_type": "code",
      "execution_count": 10,
      "metadata": {
        "colab": {
          "base_uri": "https://localhost:8080/"
        },
        "id": "KZv1s5Zpoy9l",
        "outputId": "440fcdd2-1a24-427b-af53-32e59d554d95"
      },
      "outputs": [
        {
          "name": "stdout",
          "output_type": "stream",
          "text": [
            "4\n",
            "-5\n",
            "NO\n"
          ]
        }
      ],
      "source": [
        "a = int(input())\n",
        "b = int(input())\n",
        "if a < 0 and b < 0:\n",
        "  print('YES')\n",
        "else:\n",
        "  print('NO')\n"
      ]
    },
    {
      "cell_type": "markdown",
      "metadata": {
        "id": "uMnzGmF_p9TU"
      },
      "source": [
        "W3A8"
      ]
    },
    {
      "cell_type": "code",
      "execution_count": 16,
      "metadata": {
        "colab": {
          "base_uri": "https://localhost:8080/"
        },
        "id": "f5XXRT4mp_IH",
        "outputId": "4879181a-7c32-44b7-e39a-e987cc951015"
      },
      "outputs": [
        {
          "name": "stdout",
          "output_type": "stream",
          "text": [
            "HUHABk\n",
            "aksjdisjvih\n",
            "huhabk\n",
            "TRUE\n"
          ]
        }
      ],
      "source": [
        "a = str.(input())\n",
        "b = str.(input())\n",
        "if a > b:\n",
        "  print('TRUE')\n",
        "else:\n",
        "  print('FALSE')"
      ]
    },
    {
      "cell_type": "markdown",
      "metadata": {
        "id": "lqOba-Tmq9X5"
      },
      "source": [
        "W3A9"
      ]
    },
    {
      "cell_type": "code",
      "execution_count": null,
      "metadata": {
        "id": "5TWZ-3E4qDfk"
      },
      "outputs": [],
      "source": [
        "a = int(input())\n",
        "b = int(input())\n",
        "c = int(input())\n",
        "if a + b > c and a + c > b and b + c > a:\n",
        "  print('YES')\n",
        "else:\n",
        "  print('NO')"
      ]
    },
    {
      "cell_type": "markdown",
      "metadata": {
        "id": "2myIhEzAs55n"
      },
      "source": [
        "W3A10"
      ]
    },
    {
      "cell_type": "code",
      "execution_count": 18,
      "metadata": {
        "colab": {
          "base_uri": "https://localhost:8080/"
        },
        "id": "0-_RO-Uhs5Gs",
        "outputId": "cbdecc68-0960-4206-c77b-bc21cb8b76e5"
      },
      "outputs": [
        {
          "name": "stdout",
          "output_type": "stream",
          "text": [
            " Nhap 4 so : 8 5 0 8\n",
            "8\n"
          ]
        }
      ],
      "source": [
        "dsach = list(map(int, input(' Nhap 4 so : ').split()))\n",
        "print(max(dsach))\n"
      ]
    },
    {
      "cell_type": "markdown",
      "metadata": {
        "id": "HRCOAo5vtuMj"
      },
      "source": [
        "W3A11"
      ]
    },
    {
      "cell_type": "code",
      "execution_count": 23,
      "metadata": {
        "colab": {
          "base_uri": "https://localhost:8080/"
        },
        "id": "v5Jb-DBxttqg",
        "outputId": "97d49100-068b-4af6-871f-f9994edbce39"
      },
      "outputs": [
        {
          "name": "stdout",
          "output_type": "stream",
          "text": [
            "5\n",
            "5\n",
            "5\n",
            "Tam giac deu\n"
          ]
        }
      ],
      "source": [
        "a = int(input())\n",
        "b = int(input())\n",
        "c = int(input())\n",
        "if a + b > c and a + c > b and b + c > a:\n",
        "  if a == b == c:\n",
        "    print('Tam giac deu')\n",
        "  elif a == b or a == c or b == c:\n",
        "    print('Tam giac can')\n",
        "  else:\n",
        "    print('Tam giac thuong')\n",
        "else:\n",
        "  print('Không phải tam giác')"
      ]
    },
    {
      "cell_type": "markdown",
      "metadata": {
        "id": "zU6GTKyHuOUC"
      },
      "source": [
        "W3A12"
      ]
    },
    {
      "cell_type": "code",
      "execution_count": null,
      "metadata": {
        "id": "Y75jQi0at_ri"
      },
      "outputs": [],
      "source": [
        "year = int(input())\n",
        "if year%4==0 or year%400==0:\n",
        "      print('True')\n",
        "elif year%100==0:\n",
        "      print('False')\n",
        "else:\n",
        "      print('False')"
      ]
    },
    {
      "cell_type": "markdown",
      "metadata": {
        "id": "1zgX5CzUwKTh"
      },
      "source": [
        "W3A14"
      ]
    },
    {
      "cell_type": "code",
      "execution_count": 26,
      "metadata": {
        "colab": {
          "base_uri": "https://localhost:8080/"
        },
        "id": "TXZCap8T2Gw7",
        "outputId": "72709165-60bf-41e5-c1d0-cba14b522cbb"
      },
      "outputs": [
        {
          "name": "stdout",
          "output_type": "stream",
          "text": [
            "36\n",
            "28\n",
            "Phương trình 36x + 28 = 0\n",
            "Nghiệm của phương trình là : -0.78\n",
            "Phương trình có nghiệm\n"
          ]
        }
      ],
      "source": [
        "a = float(input())\n",
        "b = float(input())\n",
        "print(f'Phương trình {a}x + {b} = 0')\n",
        "x = (-b)/a\n",
        "print(f'Nghiệm của phương trình là : {x:.2f}')\n",
        "if a != 0:\n",
        "  print('Phương trình có nghiệm')\n",
        "else :\n",
        "  print('Phương trình vô nghiệm')"
      ]
    },
    {
      "cell_type": "markdown",
      "metadata": {
        "id": "dQAoxg--3qgF"
      },
      "source": [
        "W3A15"
      ]
    },
    {
      "cell_type": "code",
      "execution_count": null,
      "metadata": {
        "id": "bosjx5zp3s3N"
      },
      "outputs": [],
      "source": [
        "tb = float(input('Nhập điểm trung bình :'))\n",
        "if tb >= 8.0:\n",
        "  print('Giỏi')\n",
        "elif tb >= 6.5:\n",
        "  print('Khá')\n",
        "elif tb >= 5.0:\n",
        "  print('Trung bình')\n",
        "elif tb < 5.0:\n",
        "  print('Yếu')\n"
      ]
    },
    {
      "cell_type": "markdown",
      "metadata": {
        "id": "2-73ekAa5AK5"
      },
      "source": [
        "W3A16"
      ]
    },
    {
      "cell_type": "code",
      "execution_count": 33,
      "metadata": {
        "colab": {
          "base_uri": "https://localhost:8080/"
        },
        "id": "7DRQSSgf5CTn",
        "outputId": "7354dcf4-a700-4bf9-ed8d-3ee1bacd88cb"
      },
      "outputs": [
        {
          "name": "stdout",
          "output_type": "stream",
          "text": [
            "7.36\n",
            "7 8 7\n"
          ]
        }
      ],
      "source": [
        "x = float(input())\n",
        "xuong = int(x)\n",
        "\n",
        "if x > 0 and x != int(x):\n",
        "    len = int(x) + 1\n",
        "elif x < 0 and x != int(x):\n",
        "    len = int(x)\n",
        "else:\n",
        "    len = int(x)\n",
        "\n",
        "if x - int(x) >= 0.5:\n",
        "    gan = int(x) + 1\n",
        "elif x - int(x) <= -0.5:\n",
        "    gan = int(x) - 1\n",
        "else:\n",
        "    gan = int(x)\n",
        "\n",
        "print(xuong, len, gan)\n",
        "\n"
      ]
    },
    {
      "cell_type": "markdown",
      "metadata": {
        "id": "FBKZJAw1CG8R"
      },
      "source": [
        "W3A17"
      ]
    },
    {
      "cell_type": "code",
      "execution_count": 35,
      "metadata": {
        "colab": {
          "base_uri": "https://localhost:8080/"
        },
        "id": "3BM1UE0ECJrX",
        "outputId": "ddd18f0c-2911-4937-9157-de6934c9a5bb"
      },
      "outputs": [
        {
          "name": "stdout",
          "output_type": "stream",
          "text": [
            "2 3 5 9\n",
            "No\n"
          ]
        }
      ],
      "source": [
        "a, b, c, d = map(int, input().split())\n",
        "if a != 0 and b % a == 0:\n",
        "    r = b // a\n",
        "    if b * r == c and c * r == d:\n",
        "        print(\"Yes\")\n",
        "    else:\n",
        "        print(\"No\")\n",
        "else:\n",
        "    print(\"No\")"
      ]
    }
  ],
  "metadata": {
    "colab": {
      "provenance": []
    },
    "kernelspec": {
      "display_name": "Python 3",
      "name": "python3"
    },
    "language_info": {
      "name": "python"
    }
  },
  "nbformat": 4,
  "nbformat_minor": 0
}
